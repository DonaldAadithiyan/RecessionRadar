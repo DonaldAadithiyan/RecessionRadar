{
 "cells": [
  {
   "cell_type": "code",
   "execution_count": 1,
   "metadata": {},
   "outputs": [],
   "source": [
    "import pandas as pd\n",
    "import numpy as np"
   ]
  },
  {
   "cell_type": "code",
   "execution_count": 7,
   "metadata": {},
   "outputs": [],
   "source": [
    "df = pd.read_csv('../data/feature-engineered/df_2_reduced_final.csv')"
   ]
  },
  {
   "cell_type": "code",
   "execution_count": 8,
   "metadata": {},
   "outputs": [
    {
     "data": {
      "text/plain": [
       "(700, 50)"
      ]
     },
     "execution_count": 8,
     "metadata": {},
     "output_type": "execute_result"
    }
   ],
   "source": [
    "df.shape"
   ]
  },
  {
   "cell_type": "code",
   "execution_count": 9,
   "metadata": {},
   "outputs": [
    {
     "data": {
      "text/plain": [
       "Index(['date', '1_year_rate', '3_months_rate', '6_months_rate', 'CPI',\n",
       "       'INDPRO', '10_year_rate', 'share_price', 'unemployment_rate', 'PPI',\n",
       "       'OECD_CLI_index', 'CSI_index', 'gdp_per_capita',\n",
       "       'seasonally_adjusted_unemployment_rate', 'CPI_trend',\n",
       "       'CPI_sumsq_acf_diff1', 'seasonally_adjusted_CPI', 'INDPRO_trend',\n",
       "       'seasonally_adjusted_INDPRO', 'INDPRO_acf1_original',\n",
       "       'CPI_sumsq_acf_original', 'INDPRO_sumsq_acf_original',\n",
       "       'CPI_acf1_original', 'recession_probability', 'PPI_trend',\n",
       "       '1_year_rate_acf1_diff1', '3_months_rate_acf1_original',\n",
       "       'gdp_per_capita_acf1_original', 'share_price_acf1_original',\n",
       "       'seasonally_adjusted_PPI', '6_months_rate_sumsq_acf_diff1',\n",
       "       'gdp_per_capita_sumsq_acf_original', 'Year',\n",
       "       'share_price_sumsq_acf_original', 'CPI_acf1_diff2',\n",
       "       '3_months_rate_sumsq_acf_original', 'CPI_acf1_diff1',\n",
       "       '6_months_rate_sumsq_acf_original', '6_months_rate_acf1_original',\n",
       "       '10_year_rate_acf1_original', '10_year_rate_sumsq_acf_original',\n",
       "       '3_months_rate_acf1_diff1', '1_year_rate_sumsq_acf_original',\n",
       "       '1_year_rate_acf1_original', 'unemployment_rate_trend',\n",
       "       'INDPRO_acf1_diff2', '3_month_recession_probability',\n",
       "       'OECD_CLI_index_sumsq_acf_original', '1_month_recession_probability',\n",
       "       '6_month_recession_probability'],\n",
       "      dtype='object')"
      ]
     },
     "execution_count": 9,
     "metadata": {},
     "output_type": "execute_result"
    }
   ],
   "source": [
    "df.columns"
   ]
  },
  {
   "cell_type": "code",
   "execution_count": null,
   "metadata": {},
   "outputs": [],
   "source": []
  },
  {
   "cell_type": "code",
   "execution_count": null,
   "metadata": {},
   "outputs": [],
   "source": []
  },
  {
   "cell_type": "code",
   "execution_count": null,
   "metadata": {},
   "outputs": [],
   "source": []
  },
  {
   "cell_type": "code",
   "execution_count": null,
   "metadata": {},
   "outputs": [],
   "source": []
  },
  {
   "cell_type": "code",
   "execution_count": null,
   "metadata": {},
   "outputs": [],
   "source": []
  }
 ],
 "metadata": {
  "kernelspec": {
   "display_name": "venv",
   "language": "python",
   "name": "python3"
  },
  "language_info": {
   "codemirror_mode": {
    "name": "ipython",
    "version": 3
   },
   "file_extension": ".py",
   "mimetype": "text/x-python",
   "name": "python",
   "nbconvert_exporter": "python",
   "pygments_lexer": "ipython3",
   "version": "3.12.6"
  }
 },
 "nbformat": 4,
 "nbformat_minor": 2
}
