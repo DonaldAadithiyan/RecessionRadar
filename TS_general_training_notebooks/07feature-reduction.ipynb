{
 "cells": [
  {
   "cell_type": "code",
   "execution_count": 3,
   "metadata": {},
   "outputs": [],
   "source": [
    "import pandas as pd\n",
    "import numpy as np"
   ]
  },
  {
   "cell_type": "code",
   "execution_count": 4,
   "metadata": {},
   "outputs": [
    {
     "name": "stdout",
     "output_type": "stream",
     "text": [
      "Columns kept for modeling:\n",
      "['date', 'unemployment_rate', 'CPI', 'INDPRO', 'gdp_per_capita', '1_year_rate', '3_months_rate', '6_months_rate', '10_year_rate', 'share_price', 'unemployment_rate', 'PPI', 'OECD_CLI_index', 'CSI_index', 'Quarter_Number', 'Month_Number', 'gdp_per_capita', 'anomaly_INDPRO', 'anomaly_CPI', 'anomaly_unemployment_rate', 'anomaly_PPI', 'anomaly_share_price', 'anomaly_1_year_rate', 'anomaly_3_months_rate', 'anomaly_6_months_rate', 'anomaly_10_year_rate', '1_year_rate_acf1_diff1', '1_year_rate_sumsq_acf_diff1', '1_year_rate_acf1_diff2', '1_year_rate_sumsq_acf_diff2', '3_months_rate_acf1_diff1', '3_months_rate_sumsq_acf_diff1', '3_months_rate_acf1_diff2', '3_months_rate_sumsq_acf_diff2', '6_months_rate_acf1_diff1', '6_months_rate_sumsq_acf_diff1', '6_months_rate_acf1_diff2', '6_months_rate_sumsq_acf_diff2', 'CPI_acf1_diff1', 'CPI_sumsq_acf_diff1', 'CPI_acf1_diff2', 'CPI_sumsq_acf_diff2', 'INDPRO_acf1_diff1', 'INDPRO_sumsq_acf_diff1', 'INDPRO_acf1_diff2', 'INDPRO_sumsq_acf_diff2', '10_year_rate_acf1_diff1', '10_year_rate_sumsq_acf_diff1', '10_year_rate_acf1_diff2', '10_year_rate_sumsq_acf_diff2', 'share_price_acf1_diff1', 'share_price_sumsq_acf_diff1', 'share_price_acf1_diff2', 'share_price_sumsq_acf_diff2', 'unemployment_rate_acf1_diff1', 'unemployment_rate_sumsq_acf_diff1', 'unemployment_rate_acf1_diff2', 'unemployment_rate_sumsq_acf_diff2', 'PPI_acf1_diff1', 'PPI_sumsq_acf_diff1', 'PPI_acf1_diff2', 'PPI_sumsq_acf_diff2', 'OECD_CLI_index_acf1_diff1', 'OECD_CLI_index_sumsq_acf_diff1', 'OECD_CLI_index_acf1_diff2', 'OECD_CLI_index_sumsq_acf_diff2', 'CSI_index_acf1_diff1', 'CSI_index_sumsq_acf_diff1', 'CSI_index_acf1_diff2', 'CSI_index_sumsq_acf_diff2', 'gdp_per_capita_acf1_diff1', 'gdp_per_capita_sumsq_acf_diff1', 'gdp_per_capita_acf1_diff2', 'gdp_per_capita_sumsq_acf_diff2', 'seasonally_adjusted_INDPRO', 'seasonally_adjusted_CPI', 'seasonally_adjusted_unemployment_rate', 'seasonally_adjusted_PPI', '1_year_rate_acf1_original', '1_year_rate_sumsq_acf_original', '1_year_rate_acf1_diff1', '1_year_rate_sumsq_acf_diff1', '1_year_rate_acf1_diff2', '1_year_rate_sumsq_acf_diff2', '1_year_rate_acf_seasonal', '3_months_rate_acf1_original', '3_months_rate_sumsq_acf_original', '3_months_rate_acf1_diff1', '3_months_rate_sumsq_acf_diff1', '3_months_rate_acf1_diff2', '3_months_rate_sumsq_acf_diff2', '3_months_rate_acf_seasonal', '6_months_rate_acf1_original', '6_months_rate_sumsq_acf_original', '6_months_rate_acf1_diff1', '6_months_rate_sumsq_acf_diff1', '6_months_rate_acf1_diff2', '6_months_rate_sumsq_acf_diff2', '6_months_rate_acf_seasonal', 'CPI_acf1_original', 'CPI_sumsq_acf_original', 'CPI_acf1_diff1', 'CPI_sumsq_acf_diff1', 'CPI_acf1_diff2', 'CPI_sumsq_acf_diff2', 'CPI_acf_seasonal', 'INDPRO_acf1_original', 'INDPRO_sumsq_acf_original', 'INDPRO_acf1_diff1', 'INDPRO_sumsq_acf_diff1', 'INDPRO_acf1_diff2', 'INDPRO_sumsq_acf_diff2', 'INDPRO_acf_seasonal', '10_year_rate_acf1_original', '10_year_rate_sumsq_acf_original', '10_year_rate_acf1_diff1', '10_year_rate_sumsq_acf_diff1', '10_year_rate_acf1_diff2', '10_year_rate_sumsq_acf_diff2', '10_year_rate_acf_seasonal']\n"
     ]
    }
   ],
   "source": [
    "# 1️⃣ Load CSV\n",
    "df = pd.read_csv(\"../data/feature-engineered/recession_probability.csv\")\n",
    "df['date'] = pd.to_datetime(df['date'])\n",
    "\n",
    "# 2️⃣ Priority 1: Keep core economic indicators\n",
    "priority1_cols = [\n",
    "    'unemployment_rate', 'CPI', 'INDPRO', 'gdp_per_capita',\n",
    "    '1_year_rate', '3_months_rate', '6_months_rate', '10_year_rate', 'share_price', 'unemployment_rate', 'PPI' , 'OECD_CLI_index', 'CSI_index', 'Quarter_Number' , 'Month_Number', 'gdp_per_capita', \n",
    "    # Anomaly indicators\n",
    "    'anomaly_INDPRO', 'anomaly_CPI', 'anomaly_unemployment_rate', 'anomaly_PPI',\n",
    "    'anomaly_share_price', 'anomaly_1_year_rate', 'anomaly_3_months_rate',\n",
    "    'anomaly_6_months_rate', 'anomaly_10_year_rate'\n",
    "]\n",
    "\n",
    "# Add first differences and seasonal adjustments if present\n",
    "first_diff_cols = [c for c in df.columns if \"_diff1\" in c or \"_diff2\" in c]\n",
    "seasonal_cols = [c for c in df.columns if \"seasonally_adjusted\" in c]\n",
    "\n",
    "priority1_keep = priority1_cols + first_diff_cols + seasonal_cols\n",
    "\n",
    "# 3️⃣ Priority 2: Selective time-series features\n",
    "# Only keep acf1 and sumsq_acf for key variables\n",
    "key_vars = ['1_year_rate','3_months_rate','6_months_rate','CPI','INDPRO','10_year_rate']\n",
    "acf_cols = []\n",
    "for var in key_vars:\n",
    "    acf_cols += [c for c in df.columns if c.startswith(var+\"_acf1\") or c.startswith(var+\"_sumsq_acf\")]\n",
    "    # Only include seasonal ACF if strong seasonality\n",
    "    seasonal_acf = [c for c in df.columns if c.startswith(var+\"_acf_seasonal\")]\n",
    "    if seasonal_acf:\n",
    "        acf_cols += seasonal_acf\n",
    "\n",
    "priority2_keep = acf_cols\n",
    "\n",
    "# 4️⃣ Combine Priority 1 & 2, drop everything else\n",
    "keep_cols = ['date'] + priority1_keep + priority2_keep\n",
    "df_clean = df[keep_cols].copy()\n",
    "\n",
    "# # 5️⃣ Optional: Fill missing values\n",
    "# df_clean = df_clean.replace([np.inf, -np.inf], np.nan)\n",
    "# df_clean = df_clean.ffill().bfill()\n",
    "\n",
    "# 6️⃣ Inspect final columns\n",
    "print(\"Columns kept for modeling:\")\n",
    "print(df_clean.columns.tolist())\n",
    "\n",
    "# 7️⃣ Save cleaned DataFrame\n",
    "df_clean.to_csv(\"../data/feature-engineered/dim_reduced_data.csv\", index=False)\n"
   ]
  },
  {
   "cell_type": "code",
   "execution_count": 5,
   "metadata": {},
   "outputs": [],
   "source": [
    "df_2 = pd.read_csv(\"../data/feature-engineered/recession_probability.csv\")"
   ]
  },
  {
   "cell_type": "code",
   "execution_count": 6,
   "metadata": {},
   "outputs": [
    {
     "data": {
      "text/plain": [
       "(700, 121)"
      ]
     },
     "execution_count": 6,
     "metadata": {},
     "output_type": "execute_result"
    }
   ],
   "source": [
    "df_2.shape"
   ]
  },
  {
   "cell_type": "code",
   "execution_count": 7,
   "metadata": {},
   "outputs": [
    {
     "ename": "KeyboardInterrupt",
     "evalue": "",
     "output_type": "error",
     "traceback": [
      "\u001b[31m---------------------------------------------------------------------------\u001b[39m",
      "\u001b[31mKeyboardInterrupt\u001b[39m                         Traceback (most recent call last)",
      "\u001b[36mCell\u001b[39m\u001b[36m \u001b[39m\u001b[32mIn[7]\u001b[39m\u001b[32m, line 40\u001b[39m\n\u001b[32m     37\u001b[39m y_clean = y.loc[mask]\n\u001b[32m     39\u001b[39m rfecv = RFECV(estimator=model, step=\u001b[32m1\u001b[39m, cv=cv, scoring=\u001b[33m'\u001b[39m\u001b[33mr2\u001b[39m\u001b[33m'\u001b[39m, min_features_to_select=\u001b[32m5\u001b[39m)\n\u001b[32m---> \u001b[39m\u001b[32m40\u001b[39m \u001b[43mrfecv\u001b[49m\u001b[43m.\u001b[49m\u001b[43mfit\u001b[49m\u001b[43m(\u001b[49m\u001b[43mX_clean\u001b[49m\u001b[43m,\u001b[49m\u001b[43m \u001b[49m\u001b[43my_clean\u001b[49m\u001b[43m)\u001b[49m\n\u001b[32m     42\u001b[39m \u001b[38;5;66;03m# Accumulate feature importance\u001b[39;00m\n\u001b[32m     43\u001b[39m \u001b[38;5;28;01mfor\u001b[39;00m f, imp \u001b[38;5;129;01min\u001b[39;00m \u001b[38;5;28mzip\u001b[39m(X.columns, model.fit(X_clean, y_clean).feature_importances_):\n",
      "\u001b[36mFile \u001b[39m\u001b[32m~/Personal learn dev/RecessionRadar/venv/lib/python3.12/site-packages/sklearn/base.py:1473\u001b[39m, in \u001b[36m_fit_context.<locals>.decorator.<locals>.wrapper\u001b[39m\u001b[34m(estimator, *args, **kwargs)\u001b[39m\n\u001b[32m   1466\u001b[39m     estimator._validate_params()\n\u001b[32m   1468\u001b[39m \u001b[38;5;28;01mwith\u001b[39;00m config_context(\n\u001b[32m   1469\u001b[39m     skip_parameter_validation=(\n\u001b[32m   1470\u001b[39m         prefer_skip_nested_validation \u001b[38;5;129;01mor\u001b[39;00m global_skip_validation\n\u001b[32m   1471\u001b[39m     )\n\u001b[32m   1472\u001b[39m ):\n\u001b[32m-> \u001b[39m\u001b[32m1473\u001b[39m     \u001b[38;5;28;01mreturn\u001b[39;00m \u001b[43mfit_method\u001b[49m\u001b[43m(\u001b[49m\u001b[43mestimator\u001b[49m\u001b[43m,\u001b[49m\u001b[43m \u001b[49m\u001b[43m*\u001b[49m\u001b[43margs\u001b[49m\u001b[43m,\u001b[49m\u001b[43m \u001b[49m\u001b[43m*\u001b[49m\u001b[43m*\u001b[49m\u001b[43mkwargs\u001b[49m\u001b[43m)\u001b[49m\n",
      "\u001b[36mFile \u001b[39m\u001b[32m~/Personal learn dev/RecessionRadar/venv/lib/python3.12/site-packages/sklearn/feature_selection/_rfe.py:777\u001b[39m, in \u001b[36mRFECV.fit\u001b[39m\u001b[34m(self, X, y, groups)\u001b[39m\n\u001b[32m    774\u001b[39m     parallel = Parallel(n_jobs=\u001b[38;5;28mself\u001b[39m.n_jobs)\n\u001b[32m    775\u001b[39m     func = delayed(_rfe_single_fit)\n\u001b[32m--> \u001b[39m\u001b[32m777\u001b[39m scores_features = \u001b[43mparallel\u001b[49m\u001b[43m(\u001b[49m\n\u001b[32m    778\u001b[39m \u001b[43m    \u001b[49m\u001b[43mfunc\u001b[49m\u001b[43m(\u001b[49m\u001b[43mrfe\u001b[49m\u001b[43m,\u001b[49m\u001b[43m \u001b[49m\u001b[38;5;28;43mself\u001b[39;49m\u001b[43m.\u001b[49m\u001b[43mestimator\u001b[49m\u001b[43m,\u001b[49m\u001b[43m \u001b[49m\u001b[43mX\u001b[49m\u001b[43m,\u001b[49m\u001b[43m \u001b[49m\u001b[43my\u001b[49m\u001b[43m,\u001b[49m\u001b[43m \u001b[49m\u001b[43mtrain\u001b[49m\u001b[43m,\u001b[49m\u001b[43m \u001b[49m\u001b[43mtest\u001b[49m\u001b[43m,\u001b[49m\u001b[43m \u001b[49m\u001b[43mscorer\u001b[49m\u001b[43m)\u001b[49m\n\u001b[32m    779\u001b[39m \u001b[43m    \u001b[49m\u001b[38;5;28;43;01mfor\u001b[39;49;00m\u001b[43m \u001b[49m\u001b[43mtrain\u001b[49m\u001b[43m,\u001b[49m\u001b[43m \u001b[49m\u001b[43mtest\u001b[49m\u001b[43m \u001b[49m\u001b[38;5;129;43;01min\u001b[39;49;00m\u001b[43m \u001b[49m\u001b[43mcv\u001b[49m\u001b[43m.\u001b[49m\u001b[43msplit\u001b[49m\u001b[43m(\u001b[49m\u001b[43mX\u001b[49m\u001b[43m,\u001b[49m\u001b[43m \u001b[49m\u001b[43my\u001b[49m\u001b[43m,\u001b[49m\u001b[43m \u001b[49m\u001b[43mgroups\u001b[49m\u001b[43m)\u001b[49m\n\u001b[32m    780\u001b[39m \u001b[43m\u001b[49m\u001b[43m)\u001b[49m\n\u001b[32m    781\u001b[39m scores, step_n_features = \u001b[38;5;28mzip\u001b[39m(*scores_features)\n\u001b[32m    783\u001b[39m step_n_features_rev = np.array(step_n_features[\u001b[32m0\u001b[39m])[::-\u001b[32m1\u001b[39m]\n",
      "\u001b[36mFile \u001b[39m\u001b[32m~/Personal learn dev/RecessionRadar/venv/lib/python3.12/site-packages/sklearn/feature_selection/_rfe.py:778\u001b[39m, in \u001b[36m<genexpr>\u001b[39m\u001b[34m(.0)\u001b[39m\n\u001b[32m    774\u001b[39m     parallel = Parallel(n_jobs=\u001b[38;5;28mself\u001b[39m.n_jobs)\n\u001b[32m    775\u001b[39m     func = delayed(_rfe_single_fit)\n\u001b[32m    777\u001b[39m scores_features = parallel(\n\u001b[32m--> \u001b[39m\u001b[32m778\u001b[39m     \u001b[43mfunc\u001b[49m\u001b[43m(\u001b[49m\u001b[43mrfe\u001b[49m\u001b[43m,\u001b[49m\u001b[43m \u001b[49m\u001b[38;5;28;43mself\u001b[39;49m\u001b[43m.\u001b[49m\u001b[43mestimator\u001b[49m\u001b[43m,\u001b[49m\u001b[43m \u001b[49m\u001b[43mX\u001b[49m\u001b[43m,\u001b[49m\u001b[43m \u001b[49m\u001b[43my\u001b[49m\u001b[43m,\u001b[49m\u001b[43m \u001b[49m\u001b[43mtrain\u001b[49m\u001b[43m,\u001b[49m\u001b[43m \u001b[49m\u001b[43mtest\u001b[49m\u001b[43m,\u001b[49m\u001b[43m \u001b[49m\u001b[43mscorer\u001b[49m\u001b[43m)\u001b[49m\n\u001b[32m    779\u001b[39m     \u001b[38;5;28;01mfor\u001b[39;00m train, test \u001b[38;5;129;01min\u001b[39;00m cv.split(X, y, groups)\n\u001b[32m    780\u001b[39m )\n\u001b[32m    781\u001b[39m scores, step_n_features = \u001b[38;5;28mzip\u001b[39m(*scores_features)\n\u001b[32m    783\u001b[39m step_n_features_rev = np.array(step_n_features[\u001b[32m0\u001b[39m])[::-\u001b[32m1\u001b[39m]\n",
      "\u001b[36mFile \u001b[39m\u001b[32m~/Personal learn dev/RecessionRadar/venv/lib/python3.12/site-packages/sklearn/feature_selection/_rfe.py:37\u001b[39m, in \u001b[36m_rfe_single_fit\u001b[39m\u001b[34m(rfe, estimator, X, y, train, test, scorer)\u001b[39m\n\u001b[32m     34\u001b[39m X_train, y_train = _safe_split(estimator, X, y, train)\n\u001b[32m     35\u001b[39m X_test, y_test = _safe_split(estimator, X, y, test, train)\n\u001b[32m---> \u001b[39m\u001b[32m37\u001b[39m \u001b[43mrfe\u001b[49m\u001b[43m.\u001b[49m\u001b[43m_fit\u001b[49m\u001b[43m(\u001b[49m\n\u001b[32m     38\u001b[39m \u001b[43m    \u001b[49m\u001b[43mX_train\u001b[49m\u001b[43m,\u001b[49m\n\u001b[32m     39\u001b[39m \u001b[43m    \u001b[49m\u001b[43my_train\u001b[49m\u001b[43m,\u001b[49m\n\u001b[32m     40\u001b[39m \u001b[43m    \u001b[49m\u001b[38;5;28;43;01mlambda\u001b[39;49;00m\u001b[43m \u001b[49m\u001b[43mestimator\u001b[49m\u001b[43m,\u001b[49m\u001b[43m \u001b[49m\u001b[43mfeatures\u001b[49m\u001b[43m:\u001b[49m\u001b[43m \u001b[49m\u001b[43m_score\u001b[49m\u001b[43m(\u001b[49m\n\u001b[32m     41\u001b[39m \u001b[43m        \u001b[49m\u001b[38;5;66;43;03m# TODO(SLEP6): pass score_params here\u001b[39;49;00m\n\u001b[32m     42\u001b[39m \u001b[43m        \u001b[49m\u001b[43mestimator\u001b[49m\u001b[43m,\u001b[49m\n\u001b[32m     43\u001b[39m \u001b[43m        \u001b[49m\u001b[43mX_test\u001b[49m\u001b[43m[\u001b[49m\u001b[43m:\u001b[49m\u001b[43m,\u001b[49m\u001b[43m \u001b[49m\u001b[43mfeatures\u001b[49m\u001b[43m]\u001b[49m\u001b[43m,\u001b[49m\n\u001b[32m     44\u001b[39m \u001b[43m        \u001b[49m\u001b[43my_test\u001b[49m\u001b[43m,\u001b[49m\n\u001b[32m     45\u001b[39m \u001b[43m        \u001b[49m\u001b[43mscorer\u001b[49m\u001b[43m,\u001b[49m\n\u001b[32m     46\u001b[39m \u001b[43m        \u001b[49m\u001b[43mscore_params\u001b[49m\u001b[43m=\u001b[49m\u001b[38;5;28;43;01mNone\u001b[39;49;00m\u001b[43m,\u001b[49m\n\u001b[32m     47\u001b[39m \u001b[43m    \u001b[49m\u001b[43m)\u001b[49m\u001b[43m,\u001b[49m\n\u001b[32m     48\u001b[39m \u001b[43m\u001b[49m\u001b[43m)\u001b[49m\n\u001b[32m     50\u001b[39m \u001b[38;5;28;01mreturn\u001b[39;00m rfe.step_scores_, rfe.step_n_features_\n",
      "\u001b[36mFile \u001b[39m\u001b[32m~/Personal learn dev/RecessionRadar/venv/lib/python3.12/site-packages/sklearn/feature_selection/_rfe.py:323\u001b[39m, in \u001b[36mRFE._fit\u001b[39m\u001b[34m(self, X, y, step_score, **fit_params)\u001b[39m\n\u001b[32m    320\u001b[39m \u001b[38;5;28;01mif\u001b[39;00m \u001b[38;5;28mself\u001b[39m.verbose > \u001b[32m0\u001b[39m:\n\u001b[32m    321\u001b[39m     \u001b[38;5;28mprint\u001b[39m(\u001b[33m\"\u001b[39m\u001b[33mFitting estimator with \u001b[39m\u001b[38;5;132;01m%d\u001b[39;00m\u001b[33m features.\u001b[39m\u001b[33m\"\u001b[39m % np.sum(support_))\n\u001b[32m--> \u001b[39m\u001b[32m323\u001b[39m \u001b[43mestimator\u001b[49m\u001b[43m.\u001b[49m\u001b[43mfit\u001b[49m\u001b[43m(\u001b[49m\u001b[43mX\u001b[49m\u001b[43m[\u001b[49m\u001b[43m:\u001b[49m\u001b[43m,\u001b[49m\u001b[43m \u001b[49m\u001b[43mfeatures\u001b[49m\u001b[43m]\u001b[49m\u001b[43m,\u001b[49m\u001b[43m \u001b[49m\u001b[43my\u001b[49m\u001b[43m,\u001b[49m\u001b[43m \u001b[49m\u001b[43m*\u001b[49m\u001b[43m*\u001b[49m\u001b[43mfit_params\u001b[49m\u001b[43m)\u001b[49m\n\u001b[32m    325\u001b[39m \u001b[38;5;66;03m# Get importance and rank them\u001b[39;00m\n\u001b[32m    326\u001b[39m importances = _get_feature_importances(\n\u001b[32m    327\u001b[39m     estimator,\n\u001b[32m    328\u001b[39m     \u001b[38;5;28mself\u001b[39m.importance_getter,\n\u001b[32m    329\u001b[39m     transform_func=\u001b[33m\"\u001b[39m\u001b[33msquare\u001b[39m\u001b[33m\"\u001b[39m,\n\u001b[32m    330\u001b[39m )\n",
      "\u001b[36mFile \u001b[39m\u001b[32m~/Personal learn dev/RecessionRadar/venv/lib/python3.12/site-packages/sklearn/base.py:1473\u001b[39m, in \u001b[36m_fit_context.<locals>.decorator.<locals>.wrapper\u001b[39m\u001b[34m(estimator, *args, **kwargs)\u001b[39m\n\u001b[32m   1466\u001b[39m     estimator._validate_params()\n\u001b[32m   1468\u001b[39m \u001b[38;5;28;01mwith\u001b[39;00m config_context(\n\u001b[32m   1469\u001b[39m     skip_parameter_validation=(\n\u001b[32m   1470\u001b[39m         prefer_skip_nested_validation \u001b[38;5;129;01mor\u001b[39;00m global_skip_validation\n\u001b[32m   1471\u001b[39m     )\n\u001b[32m   1472\u001b[39m ):\n\u001b[32m-> \u001b[39m\u001b[32m1473\u001b[39m     \u001b[38;5;28;01mreturn\u001b[39;00m \u001b[43mfit_method\u001b[49m\u001b[43m(\u001b[49m\u001b[43mestimator\u001b[49m\u001b[43m,\u001b[49m\u001b[43m \u001b[49m\u001b[43m*\u001b[49m\u001b[43margs\u001b[49m\u001b[43m,\u001b[49m\u001b[43m \u001b[49m\u001b[43m*\u001b[49m\u001b[43m*\u001b[49m\u001b[43mkwargs\u001b[49m\u001b[43m)\u001b[49m\n",
      "\u001b[36mFile \u001b[39m\u001b[32m~/Personal learn dev/RecessionRadar/venv/lib/python3.12/site-packages/sklearn/ensemble/_forest.py:489\u001b[39m, in \u001b[36mBaseForest.fit\u001b[39m\u001b[34m(self, X, y, sample_weight)\u001b[39m\n\u001b[32m    478\u001b[39m trees = [\n\u001b[32m    479\u001b[39m     \u001b[38;5;28mself\u001b[39m._make_estimator(append=\u001b[38;5;28;01mFalse\u001b[39;00m, random_state=random_state)\n\u001b[32m    480\u001b[39m     \u001b[38;5;28;01mfor\u001b[39;00m i \u001b[38;5;129;01min\u001b[39;00m \u001b[38;5;28mrange\u001b[39m(n_more_estimators)\n\u001b[32m    481\u001b[39m ]\n\u001b[32m    483\u001b[39m \u001b[38;5;66;03m# Parallel loop: we prefer the threading backend as the Cython code\u001b[39;00m\n\u001b[32m    484\u001b[39m \u001b[38;5;66;03m# for fitting the trees is internally releasing the Python GIL\u001b[39;00m\n\u001b[32m    485\u001b[39m \u001b[38;5;66;03m# making threading more efficient than multiprocessing in\u001b[39;00m\n\u001b[32m    486\u001b[39m \u001b[38;5;66;03m# that case. However, for joblib 0.12+ we respect any\u001b[39;00m\n\u001b[32m    487\u001b[39m \u001b[38;5;66;03m# parallel_backend contexts set at a higher level,\u001b[39;00m\n\u001b[32m    488\u001b[39m \u001b[38;5;66;03m# since correctness does not rely on using threads.\u001b[39;00m\n\u001b[32m--> \u001b[39m\u001b[32m489\u001b[39m trees = \u001b[43mParallel\u001b[49m\u001b[43m(\u001b[49m\n\u001b[32m    490\u001b[39m \u001b[43m    \u001b[49m\u001b[43mn_jobs\u001b[49m\u001b[43m=\u001b[49m\u001b[38;5;28;43mself\u001b[39;49m\u001b[43m.\u001b[49m\u001b[43mn_jobs\u001b[49m\u001b[43m,\u001b[49m\n\u001b[32m    491\u001b[39m \u001b[43m    \u001b[49m\u001b[43mverbose\u001b[49m\u001b[43m=\u001b[49m\u001b[38;5;28;43mself\u001b[39;49m\u001b[43m.\u001b[49m\u001b[43mverbose\u001b[49m\u001b[43m,\u001b[49m\n\u001b[32m    492\u001b[39m \u001b[43m    \u001b[49m\u001b[43mprefer\u001b[49m\u001b[43m=\u001b[49m\u001b[33;43m\"\u001b[39;49m\u001b[33;43mthreads\u001b[39;49m\u001b[33;43m\"\u001b[39;49m\u001b[43m,\u001b[49m\n\u001b[32m    493\u001b[39m \u001b[43m\u001b[49m\u001b[43m)\u001b[49m\u001b[43m(\u001b[49m\n\u001b[32m    494\u001b[39m \u001b[43m    \u001b[49m\u001b[43mdelayed\u001b[49m\u001b[43m(\u001b[49m\u001b[43m_parallel_build_trees\u001b[49m\u001b[43m)\u001b[49m\u001b[43m(\u001b[49m\n\u001b[32m    495\u001b[39m \u001b[43m        \u001b[49m\u001b[43mt\u001b[49m\u001b[43m,\u001b[49m\n\u001b[32m    496\u001b[39m \u001b[43m        \u001b[49m\u001b[38;5;28;43mself\u001b[39;49m\u001b[43m.\u001b[49m\u001b[43mbootstrap\u001b[49m\u001b[43m,\u001b[49m\n\u001b[32m    497\u001b[39m \u001b[43m        \u001b[49m\u001b[43mX\u001b[49m\u001b[43m,\u001b[49m\n\u001b[32m    498\u001b[39m \u001b[43m        \u001b[49m\u001b[43my\u001b[49m\u001b[43m,\u001b[49m\n\u001b[32m    499\u001b[39m \u001b[43m        \u001b[49m\u001b[43msample_weight\u001b[49m\u001b[43m,\u001b[49m\n\u001b[32m    500\u001b[39m \u001b[43m        \u001b[49m\u001b[43mi\u001b[49m\u001b[43m,\u001b[49m\n\u001b[32m    501\u001b[39m \u001b[43m        \u001b[49m\u001b[38;5;28;43mlen\u001b[39;49m\u001b[43m(\u001b[49m\u001b[43mtrees\u001b[49m\u001b[43m)\u001b[49m\u001b[43m,\u001b[49m\n\u001b[32m    502\u001b[39m \u001b[43m        \u001b[49m\u001b[43mverbose\u001b[49m\u001b[43m=\u001b[49m\u001b[38;5;28;43mself\u001b[39;49m\u001b[43m.\u001b[49m\u001b[43mverbose\u001b[49m\u001b[43m,\u001b[49m\n\u001b[32m    503\u001b[39m \u001b[43m        \u001b[49m\u001b[43mclass_weight\u001b[49m\u001b[43m=\u001b[49m\u001b[38;5;28;43mself\u001b[39;49m\u001b[43m.\u001b[49m\u001b[43mclass_weight\u001b[49m\u001b[43m,\u001b[49m\n\u001b[32m    504\u001b[39m \u001b[43m        \u001b[49m\u001b[43mn_samples_bootstrap\u001b[49m\u001b[43m=\u001b[49m\u001b[43mn_samples_bootstrap\u001b[49m\u001b[43m,\u001b[49m\n\u001b[32m    505\u001b[39m \u001b[43m        \u001b[49m\u001b[43mmissing_values_in_feature_mask\u001b[49m\u001b[43m=\u001b[49m\u001b[43mmissing_values_in_feature_mask\u001b[49m\u001b[43m,\u001b[49m\n\u001b[32m    506\u001b[39m \u001b[43m    \u001b[49m\u001b[43m)\u001b[49m\n\u001b[32m    507\u001b[39m \u001b[43m    \u001b[49m\u001b[38;5;28;43;01mfor\u001b[39;49;00m\u001b[43m \u001b[49m\u001b[43mi\u001b[49m\u001b[43m,\u001b[49m\u001b[43m \u001b[49m\u001b[43mt\u001b[49m\u001b[43m \u001b[49m\u001b[38;5;129;43;01min\u001b[39;49;00m\u001b[43m \u001b[49m\u001b[38;5;28;43menumerate\u001b[39;49m\u001b[43m(\u001b[49m\u001b[43mtrees\u001b[49m\u001b[43m)\u001b[49m\n\u001b[32m    508\u001b[39m \u001b[43m\u001b[49m\u001b[43m)\u001b[49m\n\u001b[32m    510\u001b[39m \u001b[38;5;66;03m# Collect newly grown trees\u001b[39;00m\n\u001b[32m    511\u001b[39m \u001b[38;5;28mself\u001b[39m.estimators_.extend(trees)\n",
      "\u001b[36mFile \u001b[39m\u001b[32m~/Personal learn dev/RecessionRadar/venv/lib/python3.12/site-packages/sklearn/utils/parallel.py:74\u001b[39m, in \u001b[36mParallel.__call__\u001b[39m\u001b[34m(self, iterable)\u001b[39m\n\u001b[32m     69\u001b[39m config = get_config()\n\u001b[32m     70\u001b[39m iterable_with_config = (\n\u001b[32m     71\u001b[39m     (_with_config(delayed_func, config), args, kwargs)\n\u001b[32m     72\u001b[39m     \u001b[38;5;28;01mfor\u001b[39;00m delayed_func, args, kwargs \u001b[38;5;129;01min\u001b[39;00m iterable\n\u001b[32m     73\u001b[39m )\n\u001b[32m---> \u001b[39m\u001b[32m74\u001b[39m \u001b[38;5;28;01mreturn\u001b[39;00m \u001b[38;5;28;43msuper\u001b[39;49m\u001b[43m(\u001b[49m\u001b[43m)\u001b[49m\u001b[43m.\u001b[49m\u001b[34;43m__call__\u001b[39;49m\u001b[43m(\u001b[49m\u001b[43miterable_with_config\u001b[49m\u001b[43m)\u001b[49m\n",
      "\u001b[36mFile \u001b[39m\u001b[32m~/Personal learn dev/RecessionRadar/venv/lib/python3.12/site-packages/joblib/parallel.py:2072\u001b[39m, in \u001b[36mParallel.__call__\u001b[39m\u001b[34m(self, iterable)\u001b[39m\n\u001b[32m   2066\u001b[39m \u001b[38;5;66;03m# The first item from the output is blank, but it makes the interpreter\u001b[39;00m\n\u001b[32m   2067\u001b[39m \u001b[38;5;66;03m# progress until it enters the Try/Except block of the generator and\u001b[39;00m\n\u001b[32m   2068\u001b[39m \u001b[38;5;66;03m# reaches the first `yield` statement. This starts the asynchronous\u001b[39;00m\n\u001b[32m   2069\u001b[39m \u001b[38;5;66;03m# dispatch of the tasks to the workers.\u001b[39;00m\n\u001b[32m   2070\u001b[39m \u001b[38;5;28mnext\u001b[39m(output)\n\u001b[32m-> \u001b[39m\u001b[32m2072\u001b[39m \u001b[38;5;28;01mreturn\u001b[39;00m output \u001b[38;5;28;01mif\u001b[39;00m \u001b[38;5;28mself\u001b[39m.return_generator \u001b[38;5;28;01melse\u001b[39;00m \u001b[38;5;28;43mlist\u001b[39;49m\u001b[43m(\u001b[49m\u001b[43moutput\u001b[49m\u001b[43m)\u001b[49m\n",
      "\u001b[36mFile \u001b[39m\u001b[32m~/Personal learn dev/RecessionRadar/venv/lib/python3.12/site-packages/joblib/parallel.py:1682\u001b[39m, in \u001b[36mParallel._get_outputs\u001b[39m\u001b[34m(self, iterator, pre_dispatch)\u001b[39m\n\u001b[32m   1679\u001b[39m     \u001b[38;5;28;01myield\u001b[39;00m\n\u001b[32m   1681\u001b[39m     \u001b[38;5;28;01mwith\u001b[39;00m \u001b[38;5;28mself\u001b[39m._backend.retrieval_context():\n\u001b[32m-> \u001b[39m\u001b[32m1682\u001b[39m         \u001b[38;5;28;01myield from\u001b[39;00m \u001b[38;5;28mself\u001b[39m._retrieve()\n\u001b[32m   1684\u001b[39m \u001b[38;5;28;01mexcept\u001b[39;00m \u001b[38;5;167;01mGeneratorExit\u001b[39;00m:\n\u001b[32m   1685\u001b[39m     \u001b[38;5;66;03m# The generator has been garbage collected before being fully\u001b[39;00m\n\u001b[32m   1686\u001b[39m     \u001b[38;5;66;03m# consumed. This aborts the remaining tasks if possible and warn\u001b[39;00m\n\u001b[32m   1687\u001b[39m     \u001b[38;5;66;03m# the user if necessary.\u001b[39;00m\n\u001b[32m   1688\u001b[39m     \u001b[38;5;28mself\u001b[39m._exception = \u001b[38;5;28;01mTrue\u001b[39;00m\n",
      "\u001b[36mFile \u001b[39m\u001b[32m~/Personal learn dev/RecessionRadar/venv/lib/python3.12/site-packages/joblib/parallel.py:1800\u001b[39m, in \u001b[36mParallel._retrieve\u001b[39m\u001b[34m(self)\u001b[39m\n\u001b[32m   1789\u001b[39m \u001b[38;5;28;01mif\u001b[39;00m \u001b[38;5;28mself\u001b[39m.return_ordered:\n\u001b[32m   1790\u001b[39m     \u001b[38;5;66;03m# Case ordered: wait for completion (or error) of the next job\u001b[39;00m\n\u001b[32m   1791\u001b[39m     \u001b[38;5;66;03m# that have been dispatched and not retrieved yet. If no job\u001b[39;00m\n\u001b[32m   (...)\u001b[39m\u001b[32m   1795\u001b[39m     \u001b[38;5;66;03m# control only have to be done on the amount of time the next\u001b[39;00m\n\u001b[32m   1796\u001b[39m     \u001b[38;5;66;03m# dispatched job is pending.\u001b[39;00m\n\u001b[32m   1797\u001b[39m     \u001b[38;5;28;01mif\u001b[39;00m (nb_jobs == \u001b[32m0\u001b[39m) \u001b[38;5;129;01mor\u001b[39;00m (\n\u001b[32m   1798\u001b[39m         \u001b[38;5;28mself\u001b[39m._jobs[\u001b[32m0\u001b[39m].get_status(timeout=\u001b[38;5;28mself\u001b[39m.timeout) == TASK_PENDING\n\u001b[32m   1799\u001b[39m     ):\n\u001b[32m-> \u001b[39m\u001b[32m1800\u001b[39m         \u001b[43mtime\u001b[49m\u001b[43m.\u001b[49m\u001b[43msleep\u001b[49m\u001b[43m(\u001b[49m\u001b[32;43m0.01\u001b[39;49m\u001b[43m)\u001b[49m\n\u001b[32m   1801\u001b[39m         \u001b[38;5;28;01mcontinue\u001b[39;00m\n\u001b[32m   1803\u001b[39m \u001b[38;5;28;01melif\u001b[39;00m nb_jobs == \u001b[32m0\u001b[39m:\n\u001b[32m   1804\u001b[39m     \u001b[38;5;66;03m# Case unordered: jobs are added to the list of jobs to\u001b[39;00m\n\u001b[32m   1805\u001b[39m     \u001b[38;5;66;03m# retrieve `self._jobs` only once completed or in error, which\u001b[39;00m\n\u001b[32m   (...)\u001b[39m\u001b[32m   1811\u001b[39m     \u001b[38;5;66;03m# timeouts before any other dispatched job has completed and\u001b[39;00m\n\u001b[32m   1812\u001b[39m     \u001b[38;5;66;03m# been added to `self._jobs` to be retrieved.\u001b[39;00m\n",
      "\u001b[31mKeyboardInterrupt\u001b[39m: "
     ]
    }
   ],
   "source": [
    "import pandas as pd\n",
    "import numpy as np\n",
    "from sklearn.ensemble import RandomForestRegressor\n",
    "from sklearn.feature_selection import RFECV\n",
    "from sklearn.model_selection import KFold\n",
    "\n",
    "# 1️⃣ Load dataframe\n",
    "df = df_2\n",
    "df['date'] = pd.to_datetime(df['date'])\n",
    "\n",
    "# 2️⃣ Config\n",
    "TARGET_COLS = [\n",
    "    '1_year_rate','3_months_rate','6_months_rate','CPI','INDPRO',\n",
    "    '10_year_rate','share_price','unemployment_rate','PPI',\n",
    "    'OECD_CLI_index','CSI_index','gdp_per_capita'\n",
    "]\n",
    "\n",
    "RECESSION_COLS = [\n",
    "    'recession_probability','1_month_recession_probability',\n",
    "    '3_month_recession_probability','6_month_recession_probability'\n",
    "]\n",
    "\n",
    "# Drop date + targets for features\n",
    "X = df.drop(columns=['date'] + TARGET_COLS)\n",
    "feature_importance_dict = {}\n",
    "\n",
    "# 3️⃣ RFECV parameters\n",
    "cv = KFold(n_splits=5, shuffle=True, random_state=42)\n",
    "model = RandomForestRegressor(n_estimators=200, random_state=42, n_jobs=-1)\n",
    "\n",
    "# 4️⃣ Run RFECV for each target to get feature importance\n",
    "for target in TARGET_COLS:\n",
    "    y = df[target]\n",
    "    # Drop rows where target is NaN\n",
    "    mask = ~y.isna()\n",
    "    X_clean = X.loc[mask]\n",
    "    y_clean = y.loc[mask]\n",
    "\n",
    "    rfecv = RFECV(estimator=model, step=1, cv=cv, scoring='r2', min_features_to_select=5)\n",
    "    rfecv.fit(X_clean, y_clean)\n",
    "\n",
    "    # Accumulate feature importance\n",
    "    for f, imp in zip(X.columns, model.fit(X_clean, y_clean).feature_importances_):\n",
    "        feature_importance_dict[f] = feature_importance_dict.get(f, 0) + imp\n",
    "\n",
    "# 5️⃣ Select top 35 features based on accumulated importance\n",
    "sorted_features = sorted(feature_importance_dict.items(), key=lambda x: x[1], reverse=True)\n",
    "top_35_features = [f for f, _ in sorted_features[:35]]\n",
    "\n",
    "# 6️⃣ Combine with recession columns\n",
    "final_features = top_35_features + RECESSION_COLS\n",
    "\n",
    "# 7️⃣ Create reduced dataframe\n",
    "df_reduced = df[['date'] + TARGET_COLS + final_features].copy()\n",
    "\n",
    "# 8️⃣ Optional: save reduced dataframe\n",
    "df_reduced.to_csv(\"df_2_reduced.csv\", index=False)\n",
    "\n",
    "print(f\"Final features ({len(top_35_features)} + {len(RECESSION_COLS)} recession):\")\n",
    "print(final_features)\n"
   ]
  },
  {
   "cell_type": "code",
   "execution_count": 6,
   "metadata": {},
   "outputs": [
    {
     "data": {
      "text/plain": [
       "Index(['date', '1_year_rate', '3_months_rate', '6_months_rate', 'CPI',\n",
       "       'INDPRO', '10_year_rate', 'share_price', 'unemployment_rate', 'PPI',\n",
       "       'OECD_CLI_index', 'CSI_index', 'gdp_per_capita',\n",
       "       'seasonally_adjusted_unemployment_rate', 'CPI_trend',\n",
       "       'CPI_sumsq_acf_diff1', 'seasonally_adjusted_CPI', 'INDPRO_trend',\n",
       "       'seasonally_adjusted_INDPRO', 'INDPRO_acf1_original',\n",
       "       'CPI_sumsq_acf_original', 'INDPRO_sumsq_acf_original',\n",
       "       'CPI_acf1_original', 'recession_probability', 'PPI_trend',\n",
       "       '1_year_rate_acf1_diff1', '3_months_rate_acf1_original',\n",
       "       'gdp_per_capita_acf1_original', 'share_price_acf1_original',\n",
       "       'seasonally_adjusted_PPI', '6_months_rate_sumsq_acf_diff1',\n",
       "       'gdp_per_capita_sumsq_acf_original', 'Year',\n",
       "       'share_price_sumsq_acf_original', 'CPI_acf1_diff2',\n",
       "       '3_months_rate_sumsq_acf_original', 'CPI_acf1_diff1',\n",
       "       '6_months_rate_sumsq_acf_original', '6_months_rate_acf1_original',\n",
       "       '10_year_rate_acf1_original', '10_year_rate_sumsq_acf_original',\n",
       "       '3_months_rate_acf1_diff1', '1_year_rate_sumsq_acf_original',\n",
       "       '1_year_rate_acf1_original', 'unemployment_rate_trend',\n",
       "       'INDPRO_acf1_diff2', '3_month_recession_probability',\n",
       "       'OECD_CLI_index_sumsq_acf_original', 'recession_probability',\n",
       "       '1_month_recession_probability', '3_month_recession_probability',\n",
       "       '6_month_recession_probability'],\n",
       "      dtype='object')"
      ]
     },
     "execution_count": 6,
     "metadata": {},
     "output_type": "execute_result"
    }
   ],
   "source": [
    "df_reduced.columns"
   ]
  },
  {
   "cell_type": "code",
   "execution_count": 13,
   "metadata": {},
   "outputs": [],
   "source": [
    "df_reduced.to_csv(\"df_2_reduced.csv\", index=False)\n"
   ]
  },
  {
   "cell_type": "code",
   "execution_count": 8,
   "metadata": {},
   "outputs": [],
   "source": [
    "df_3 = pd.read_csv('df_2_reduced.csv')"
   ]
  },
  {
   "cell_type": "code",
   "execution_count": 9,
   "metadata": {},
   "outputs": [
    {
     "data": {
      "text/plain": [
       "(700, 52)"
      ]
     },
     "execution_count": 9,
     "metadata": {},
     "output_type": "execute_result"
    }
   ],
   "source": [
    "df_3.shape"
   ]
  },
  {
   "cell_type": "code",
   "execution_count": 10,
   "metadata": {},
   "outputs": [
    {
     "data": {
      "text/plain": [
       "date                                      object\n",
       "1_year_rate                              float64\n",
       "3_months_rate                            float64\n",
       "6_months_rate                            float64\n",
       "CPI                                      float64\n",
       "INDPRO                                   float64\n",
       "10_year_rate                             float64\n",
       "share_price                              float64\n",
       "unemployment_rate                        float64\n",
       "PPI                                      float64\n",
       "OECD_CLI_index                           float64\n",
       "CSI_index                                float64\n",
       "gdp_per_capita                           float64\n",
       "seasonally_adjusted_unemployment_rate    float64\n",
       "CPI_trend                                float64\n",
       "CPI_sumsq_acf_diff1                      float64\n",
       "seasonally_adjusted_CPI                  float64\n",
       "INDPRO_trend                             float64\n",
       "seasonally_adjusted_INDPRO               float64\n",
       "INDPRO_acf1_original                     float64\n",
       "CPI_sumsq_acf_original                   float64\n",
       "INDPRO_sumsq_acf_original                float64\n",
       "CPI_acf1_original                        float64\n",
       "recession_probability                    float64\n",
       "PPI_trend                                float64\n",
       "1_year_rate_acf1_diff1                   float64\n",
       "3_months_rate_acf1_original              float64\n",
       "gdp_per_capita_acf1_original             float64\n",
       "share_price_acf1_original                float64\n",
       "seasonally_adjusted_PPI                  float64\n",
       "6_months_rate_sumsq_acf_diff1            float64\n",
       "gdp_per_capita_sumsq_acf_original        float64\n",
       "Year                                       int64\n",
       "share_price_sumsq_acf_original           float64\n",
       "CPI_acf1_diff2                           float64\n",
       "3_months_rate_sumsq_acf_original         float64\n",
       "CPI_acf1_diff1                           float64\n",
       "6_months_rate_sumsq_acf_original         float64\n",
       "6_months_rate_acf1_original              float64\n",
       "10_year_rate_acf1_original               float64\n",
       "10_year_rate_sumsq_acf_original          float64\n",
       "3_months_rate_acf1_diff1                 float64\n",
       "1_year_rate_sumsq_acf_original           float64\n",
       "1_year_rate_acf1_original                float64\n",
       "unemployment_rate_trend                  float64\n",
       "INDPRO_acf1_diff2                        float64\n",
       "3_month_recession_probability            float64\n",
       "OECD_CLI_index_sumsq_acf_original        float64\n",
       "recession_probability.1                  float64\n",
       "1_month_recession_probability            float64\n",
       "3_month_recession_probability.1          float64\n",
       "6_month_recession_probability            float64\n",
       "dtype: object"
      ]
     },
     "execution_count": 10,
     "metadata": {},
     "output_type": "execute_result"
    }
   ],
   "source": [
    "df_3.dtypes"
   ]
  }
 ],
 "metadata": {
  "kernelspec": {
   "display_name": ".venv",
   "language": "python",
   "name": "python3"
  },
  "language_info": {
   "codemirror_mode": {
    "name": "ipython",
    "version": 3
   },
   "file_extension": ".py",
   "mimetype": "text/x-python",
   "name": "python",
   "nbconvert_exporter": "python",
   "pygments_lexer": "ipython3",
   "version": "3.12.6"
  }
 },
 "nbformat": 4,
 "nbformat_minor": 2
}
