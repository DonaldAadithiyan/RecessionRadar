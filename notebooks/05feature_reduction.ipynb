{
 "cells": [
  {
   "cell_type": "code",
   "execution_count": null,
   "id": "ff09fcd0",
   "metadata": {},
   "outputs": [],
   "source": [
    "import lightgbm as lgb\n",
    "from sklearn.model_selection import train_test_split\n",
    "\n",
    "# 1. Prepare data (exclude targets from X, drop NA)\n",
    "target = '1_month_recession_probability'  # or '3_month_recession_probability', etc.\n",
    "X = df_fe.drop(columns=[target])\n",
    "y = df_fe[target]\n",
    "\n",
    "# 2. Train/test split\n",
    "X_train, X_test, y_train, y_test = train_test_split(X, y, test_size=0.2, shuffle=False)\n",
    "\n",
    "# 3. Train LightGBM for feature importance\n",
    "lgb_train = lgb.Dataset(X_train, y_train)\n",
    "params = {'objective': 'regression', 'verbosity': -1}\n",
    "model = lgb.train(params, lgb_train, num_boost_round=100)\n",
    "\n",
    "# 4. Get feature importances\n",
    "importances = pd.Series(model.feature_importance(), index=X_train.columns)\n",
    "importances = importances.sort_values(ascending=False)\n",
    "print(\"Top 20 features by importance:\")\n",
    "print(importances.head(20))\n",
    "\n",
    "# 5. Select top N features\n",
    "N = 30  # or any number you want\n",
    "top_features = importances.head(N).index.tolist()\n",
    "X_reduced = X[top_features]\n",
    "\n",
    "# 6. Save reduced feature set\n",
    "df_reduced = df_fe[top_features + [target]]\n",
    "df_reduced.to_csv('../data/processed/feature_engineered_economic_indicators_reduced.csv')\n",
    "print(f\"Saved reduced feature set with top {N} features to ../data/processed/feature_engineered_economic_indicators_reduced.csv\")"
   ]
  }
 ],
 "metadata": {
  "language_info": {
   "name": "python"
  }
 },
 "nbformat": 4,
 "nbformat_minor": 5
}
