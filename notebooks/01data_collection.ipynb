{
 "cells": [
  {
   "cell_type": "code",
   "execution_count": 1,
   "metadata": {},
   "outputs": [],
   "source": [
    "import pandas as pd\n"
   ]
  },
  {
   "cell_type": "code",
   "execution_count": 20,
   "metadata": {},
   "outputs": [
    {
     "name": "stdout",
     "output_type": "stream",
     "text": [
      "    realtime_start realtime_end        date  value\n",
      "700     2025-07-27   2025-07-27  2025-06-01    4.1\n"
     ]
    }
   ],
   "source": [
    "# Load the dataset\n",
    "df = pd.read_csv(\"../data/raw/UNRATE.csv\")\n",
    "\n",
    "# Display the last row\n",
    "last_row = df.tail(1)\n",
    "print(last_row)"
   ]
  },
  {
   "cell_type": "code",
   "execution_count": 6,
   "metadata": {},
   "outputs": [
    {
     "data": {
      "text/html": [
       "<div>\n",
       "<style scoped>\n",
       "    .dataframe tbody tr th:only-of-type {\n",
       "        vertical-align: middle;\n",
       "    }\n",
       "\n",
       "    .dataframe tbody tr th {\n",
       "        vertical-align: top;\n",
       "    }\n",
       "\n",
       "    .dataframe thead th {\n",
       "        text-align: right;\n",
       "    }\n",
       "</style>\n",
       "<table border=\"1\" class=\"dataframe\">\n",
       "  <thead>\n",
       "    <tr style=\"text-align: right;\">\n",
       "      <th></th>\n",
       "      <th>realtime_start</th>\n",
       "      <th>realtime_end</th>\n",
       "      <th>date</th>\n",
       "      <th>value</th>\n",
       "    </tr>\n",
       "  </thead>\n",
       "  <tbody>\n",
       "    <tr>\n",
       "      <th>0</th>\n",
       "      <td>2025-07-27</td>\n",
       "      <td>2025-07-27</td>\n",
       "      <td>1967-02-01</td>\n",
       "      <td>4.48</td>\n",
       "    </tr>\n",
       "    <tr>\n",
       "      <th>1</th>\n",
       "      <td>2025-07-27</td>\n",
       "      <td>2025-07-27</td>\n",
       "      <td>1967-02-02</td>\n",
       "      <td>4.45</td>\n",
       "    </tr>\n",
       "    <tr>\n",
       "      <th>2</th>\n",
       "      <td>2025-07-27</td>\n",
       "      <td>2025-07-27</td>\n",
       "      <td>1967-02-03</td>\n",
       "      <td>4.45</td>\n",
       "    </tr>\n",
       "    <tr>\n",
       "      <th>3</th>\n",
       "      <td>2025-07-27</td>\n",
       "      <td>2025-07-27</td>\n",
       "      <td>1967-02-06</td>\n",
       "      <td>4.49</td>\n",
       "    </tr>\n",
       "    <tr>\n",
       "      <th>4</th>\n",
       "      <td>2025-07-27</td>\n",
       "      <td>2025-07-27</td>\n",
       "      <td>1967-02-07</td>\n",
       "      <td>4.49</td>\n",
       "    </tr>\n",
       "  </tbody>\n",
       "</table>\n",
       "</div>"
      ],
      "text/plain": [
       "  realtime_start realtime_end        date value\n",
       "0     2025-07-27   2025-07-27  1967-02-01  4.48\n",
       "1     2025-07-27   2025-07-27  1967-02-02  4.45\n",
       "2     2025-07-27   2025-07-27  1967-02-03  4.45\n",
       "3     2025-07-27   2025-07-27  1967-02-06  4.49\n",
       "4     2025-07-27   2025-07-27  1967-02-07  4.49"
      ]
     },
     "execution_count": 6,
     "metadata": {},
     "output_type": "execute_result"
    }
   ],
   "source": [
    "df.head()"
   ]
  },
  {
   "cell_type": "code",
   "execution_count": 9,
   "metadata": {},
   "outputs": [],
   "source": [
    "def average_monthly_and_export(input_csv_path, output_csv_path, date_col='date', value_col='value'):\n",
    "    # Load the dataset\n",
    "    df = pd.read_csv(input_csv_path)\n",
    "    \n",
    "    # Convert date column to datetime\n",
    "    df[date_col] = pd.to_datetime(df[date_col])\n",
    "    df[value_col] = pd.to_numeric(df[value_col], errors='coerce')  # convert to float\n",
    "\n",
    "    \n",
    "    # Create a new column representing the first day of the month\n",
    "    df['month'] = df[date_col].dt.to_period('M').dt.to_timestamp()\n",
    "    \n",
    "    # Group by month and calculate average\n",
    "    monthly_avg = df.groupby('month')[value_col].mean().reset_index()\n",
    "    \n",
    "    # Rename columns to match original format\n",
    "    monthly_avg.rename(columns={'month': date_col}, inplace=True)\n",
    "    \n",
    "    # Save to new CSV\n",
    "    monthly_avg.to_csv(output_csv_path, index=False)\n",
    "    print(f\"Monthly averaged data saved to {output_csv_path}\")"
   ]
  },
  {
   "cell_type": "code",
   "execution_count": 16,
   "metadata": {},
   "outputs": [
    {
     "name": "stdout",
     "output_type": "stream",
     "text": [
      "Monthly averaged data saved to ../data/raw/processed/processed-DTB6.csv\n"
     ]
    }
   ],
   "source": [
    "average_monthly_and_export('../data/raw/DTB6.csv','../data/raw/processed/processed-DTB6.csv')"
   ]
  },
  {
   "cell_type": "code",
   "execution_count": null,
   "metadata": {},
   "outputs": [],
   "source": []
  },
  {
   "cell_type": "code",
   "execution_count": null,
   "metadata": {},
   "outputs": [],
   "source": []
  },
  {
   "cell_type": "code",
   "execution_count": null,
   "metadata": {},
   "outputs": [],
   "source": []
  },
  {
   "cell_type": "code",
   "execution_count": null,
   "metadata": {},
   "outputs": [],
   "source": []
  },
  {
   "cell_type": "code",
   "execution_count": null,
   "metadata": {},
   "outputs": [],
   "source": []
  }
 ],
 "metadata": {
  "kernelspec": {
   "display_name": ".venv",
   "language": "python",
   "name": "python3"
  },
  "language_info": {
   "codemirror_mode": {
    "name": "ipython",
    "version": 3
   },
   "file_extension": ".py",
   "mimetype": "text/x-python",
   "name": "python",
   "nbconvert_exporter": "python",
   "pygments_lexer": "ipython3",
   "version": "3.13.2"
  }
 },
 "nbformat": 4,
 "nbformat_minor": 2
}
