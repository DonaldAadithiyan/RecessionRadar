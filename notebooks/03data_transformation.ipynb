{
 "cells": [
  {
   "cell_type": "code",
   "execution_count": 1,
   "metadata": {},
   "outputs": [],
   "source": [
    "import pandas as pd\n",
    "import numpy as np\n",
    "\n"
   ]
  },
  {
   "cell_type": "code",
   "execution_count": 2,
   "metadata": {},
   "outputs": [],
   "source": [
    "combined_recession_df = pd.read_csv('../data/combined/recession_probability.csv')\n",
    "processed_recession_df = pd.read_csv('../data/processed/recession_probability.csv')"
   ]
  },
  {
   "cell_type": "code",
   "execution_count": 3,
   "metadata": {},
   "outputs": [
    {
     "data": {
      "text/plain": [
       "(700, 20)"
      ]
     },
     "execution_count": 3,
     "metadata": {},
     "output_type": "execute_result"
    }
   ],
   "source": [
    "combined_recession_df.shape"
   ]
  },
  {
   "cell_type": "code",
   "execution_count": 4,
   "metadata": {},
   "outputs": [
    {
     "data": {
      "text/plain": [
       "(700, 18)"
      ]
     },
     "execution_count": 4,
     "metadata": {},
     "output_type": "execute_result"
    }
   ],
   "source": [
    "processed_recession_df.shape"
   ]
  },
  {
   "cell_type": "code",
   "execution_count": 5,
   "metadata": {},
   "outputs": [
    {
     "data": {
      "text/plain": [
       "Index(['date', 'recession_probability', '1_month_recession_probability',\n",
       "       '3_month_recession_probability', '6_month_recession_probability',\n",
       "       '1_year_rate', '3_months_rate', '6_months_rate', 'CPI', 'INDPRO',\n",
       "       '10_year_rate', 'share_price', 'unemployment_rate', 'PPI',\n",
       "       'OECD_CLI_index', 'CSI_index', 'Business_Quarter', 'Month', 'Country',\n",
       "       'gdp_per_capita'],\n",
       "      dtype='object')"
      ]
     },
     "execution_count": 5,
     "metadata": {},
     "output_type": "execute_result"
    }
   ],
   "source": [
    "combined_recession_df.columns"
   ]
  },
  {
   "cell_type": "code",
   "execution_count": 10,
   "metadata": {},
   "outputs": [
    {
     "name": "stdout",
     "output_type": "stream",
     "text": [
      "Column 'date' added and file saved as processed_recession_updated.csv\n"
     ]
    }
   ],
   "source": [
    "processed_recession_df['date'] = combined_recession_df['date']\n",
    "\n",
    "# Export updated processed_recession_df to CSV\n",
    "processed_recession_df.to_csv(\"../data/processed/recession_probability.csv\", index=False)\n",
    "\n",
    "print(f\"Column '{'date'}' added and file saved as processed_recession_updated.csv\")"
   ]
  },
  {
   "cell_type": "code",
   "execution_count": 11,
   "metadata": {},
   "outputs": [
    {
     "data": {
      "text/plain": [
       "Index(['recession_probability', '1_month_recession_probability',\n",
       "       '3_month_recession_probability', '6_month_recession_probability',\n",
       "       '1_year_rate', '3_months_rate', '6_months_rate', 'CPI', 'INDPRO',\n",
       "       '10_year_rate', 'share_price', 'unemployment_rate', 'PPI',\n",
       "       'OECD_CLI_index', 'CSI_index', 'Year', 'Quarter_Number', 'Month_Number',\n",
       "       'date'],\n",
       "      dtype='object')"
      ]
     },
     "execution_count": 11,
     "metadata": {},
     "output_type": "execute_result"
    }
   ],
   "source": [
    "processed_recession_df.columns"
   ]
  },
  {
   "cell_type": "code",
   "execution_count": 12,
   "metadata": {},
   "outputs": [],
   "source": [
    "gdp_monthly_df = pd.read_csv(\"../data/raw/processed/interpolated-processed-A939RX0Q048SBEA.csv\")\n",
    "\n",
    "# Ensure both are datetime\n",
    "processed_recession_df['date'] = pd.to_datetime(processed_recession_df['date'])\n",
    "gdp_monthly_df['date'] = pd.to_datetime(gdp_monthly_df['date'])\n",
    "\n",
    "# Merge\n",
    "merged_df = processed_recession_df.merge(gdp_monthly_df, on=\"date\", how=\"left\")\n",
    "\n",
    "# Save\n",
    "merged_df.to_csv(\"../data/processed/recession_probability.csv\", index=False)\n"
   ]
  },
  {
   "cell_type": "code",
   "execution_count": 15,
   "metadata": {},
   "outputs": [
    {
     "name": "stdout",
     "output_type": "stream",
     "text": [
      "In combined_recession_df but not in processed_recession_df: {'Month', 'Business_Quarter', 'Country'}\n",
      "In processed_recession_df but not in combined_recession_df: {'Year', 'Month_Number', 'Quarter_Number'}\n"
     ]
    }
   ],
   "source": [
    "processed_recession_df = pd.read_csv(\"../data/processed/recession_probability.csv\")\n",
    "\n",
    "# Columns present in combined_recession_df but not in processed_recession_df\n",
    "diff1 = set(combined_recession_df.columns) - set(processed_recession_df.columns)\n",
    "\n",
    "# Columns present in processed_recession_df but not in combined_recession_df\n",
    "diff2 = set(processed_recession_df.columns) - set(combined_recession_df.columns)\n",
    "\n",
    "print(\"In combined_recession_df but not in processed_recession_df:\", diff1)\n",
    "print(\"In processed_recession_df but not in combined_recession_df:\", diff2)\n"
   ]
  },
  {
   "cell_type": "code",
   "execution_count": 16,
   "metadata": {},
   "outputs": [
    {
     "data": {
      "text/plain": [
       "(700, 20)"
      ]
     },
     "execution_count": 16,
     "metadata": {},
     "output_type": "execute_result"
    }
   ],
   "source": [
    "processed_recession_df.shape"
   ]
  },
  {
   "cell_type": "code",
   "execution_count": null,
   "metadata": {},
   "outputs": [],
   "source": []
  },
  {
   "cell_type": "code",
   "execution_count": null,
   "metadata": {},
   "outputs": [],
   "source": []
  }
 ],
 "metadata": {
  "kernelspec": {
   "display_name": ".venv",
   "language": "python",
   "name": "python3"
  },
  "language_info": {
   "codemirror_mode": {
    "name": "ipython",
    "version": 3
   },
   "file_extension": ".py",
   "mimetype": "text/x-python",
   "name": "python",
   "nbconvert_exporter": "python",
   "pygments_lexer": "ipython3",
   "version": "3.13.2"
  }
 },
 "nbformat": 4,
 "nbformat_minor": 2
}
