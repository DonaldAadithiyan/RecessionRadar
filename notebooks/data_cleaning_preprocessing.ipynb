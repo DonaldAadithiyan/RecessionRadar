{
 "cells": [
  {
   "cell_type": "markdown",
   "id": "47d4b634",
   "metadata": {},
   "source": [
    "# Data Cleaning and Preprocessing for Economic Indicators\n",
    "\n",
    "This notebook covers loading raw economic indicator data, handling missing values, removing outliers, and normalizing/scaling features. The cleaned data will be saved for further analysis."
   ]
  },
  {
   "cell_type": "code",
   "execution_count": 6,
   "id": "0c7416fa",
   "metadata": {},
   "outputs": [
    {
     "name": "stdout",
     "output_type": "stream",
     "text": [
      "Loaded data shape: (701, 3)\n"
     ]
    },
    {
     "data": {
      "text/html": [
       "<div>\n",
       "<style scoped>\n",
       "    .dataframe tbody tr th:only-of-type {\n",
       "        vertical-align: middle;\n",
       "    }\n",
       "\n",
       "    .dataframe tbody tr th {\n",
       "        vertical-align: top;\n",
       "    }\n",
       "\n",
       "    .dataframe thead th {\n",
       "        text-align: right;\n",
       "    }\n",
       "</style>\n",
       "<table border=\"1\" class=\"dataframe\">\n",
       "  <thead>\n",
       "    <tr style=\"text-align: right;\">\n",
       "      <th></th>\n",
       "      <th>realtime_end</th>\n",
       "      <th>date</th>\n",
       "      <th>value</th>\n",
       "    </tr>\n",
       "    <tr>\n",
       "      <th>realtime_start</th>\n",
       "      <th></th>\n",
       "      <th></th>\n",
       "      <th></th>\n",
       "    </tr>\n",
       "  </thead>\n",
       "  <tbody>\n",
       "    <tr>\n",
       "      <th>2025-07-29</th>\n",
       "      <td>2025-07-29</td>\n",
       "      <td>1967-02-01</td>\n",
       "      <td>98.590266</td>\n",
       "    </tr>\n",
       "    <tr>\n",
       "      <th>2025-07-29</th>\n",
       "      <td>2025-07-29</td>\n",
       "      <td>1967-03-01</td>\n",
       "      <td>98.606358</td>\n",
       "    </tr>\n",
       "    <tr>\n",
       "      <th>2025-07-29</th>\n",
       "      <td>2025-07-29</td>\n",
       "      <td>1967-04-01</td>\n",
       "      <td>98.745387</td>\n",
       "    </tr>\n",
       "    <tr>\n",
       "      <th>2025-07-29</th>\n",
       "      <td>2025-07-29</td>\n",
       "      <td>1967-05-01</td>\n",
       "      <td>98.993997</td>\n",
       "    </tr>\n",
       "    <tr>\n",
       "      <th>2025-07-29</th>\n",
       "      <td>2025-07-29</td>\n",
       "      <td>1967-06-01</td>\n",
       "      <td>99.304794</td>\n",
       "    </tr>\n",
       "  </tbody>\n",
       "</table>\n",
       "</div>"
      ],
      "text/plain": [
       "               realtime_end        date      value\n",
       "realtime_start                                    \n",
       "2025-07-29       2025-07-29  1967-02-01  98.590266\n",
       "2025-07-29       2025-07-29  1967-03-01  98.606358\n",
       "2025-07-29       2025-07-29  1967-04-01  98.745387\n",
       "2025-07-29       2025-07-29  1967-05-01  98.993997\n",
       "2025-07-29       2025-07-29  1967-06-01  99.304794"
      ]
     },
     "metadata": {},
     "output_type": "display_data"
    },
    {
     "name": "stdout",
     "output_type": "stream",
     "text": [
      "Missing values per column:\n",
      "Series([], dtype: int64)\n",
      "Missing values after fill: 0\n",
      "Shape after outlier removal: (670, 3)\n",
      "Data scaled. Mean: value    0.0\n",
      "dtype: float64\n",
      "Std: value    1.0\n",
      "dtype: float64\n",
      "Cleaned and scaled data saved to ../data/processed/cleaned_economic_indicators.csv\n"
     ]
    },
    {
     "name": "stderr",
     "output_type": "stream",
     "text": [
      "C:\\Users\\dulak\\AppData\\Local\\Temp\\ipykernel_26016\\1260647094.py:19: FutureWarning: DataFrame.fillna with 'method' is deprecated and will raise in a future version. Use obj.ffill() or obj.bfill() instead.\n",
      "  df = df.fillna(method='ffill').fillna(method='bfill')\n"
     ]
    }
   ],
   "source": [
    "# 1. Import Libraries\n",
    "import pandas as pd\n",
    "import numpy as np\n",
    "import os\n",
    "from sklearn.preprocessing import StandardScaler\n",
    "import matplotlib.pyplot as plt\n",
    "import seaborn as sns\n",
    "\n",
    "# 2. Load Raw Data (update path as needed)\n",
    "df = pd.read_csv('../data/raw/USALOLITOAASTSAM.csv', index_col=0, parse_dates=True)\n",
    "print(f\"Loaded data shape: {df.shape}\")\n",
    "display(df.head())\n",
    "\n",
    "# 3. Handle Missing Values\n",
    "missing = df.isnull().sum()\n",
    "print(\"Missing values per column:\")\n",
    "print(missing[missing > 0])\n",
    "\n",
    "df = df.fillna(method='ffill').fillna(method='bfill')\n",
    "print(\"Missing values after fill:\", df.isnull().sum().sum())\n",
    "\n",
    "# 4. Outlier Removal (IQR method)\n",
    "def remove_outliers_iqr(df, columns):\n",
    "    df_out = df.copy()\n",
    "    for col in columns:\n",
    "        Q1 = df_out[col].quantile(0.25)\n",
    "        Q3 = df_out[col].quantile(0.75)\n",
    "        IQR = Q3 - Q1\n",
    "        lower = Q1 - 1.5 * IQR\n",
    "        upper = Q3 + 1.5 * IQR\n",
    "        df_out = df_out[(df_out[col] >= lower) & (df_out[col] <= upper)]\n",
    "    return df_out\n",
    "\n",
    "# Only select numeric columns for outlier removal and scaling\n",
    "numeric_cols = df.select_dtypes(include=[np.number]).columns.tolist()\n",
    "df_clean = remove_outliers_iqr(df, numeric_cols)\n",
    "print(f\"Shape after outlier removal: {df_clean.shape}\")\n",
    "\n",
    "# 5. Scaling (StandardScaler) - only scale numeric columns\n",
    "scaler = StandardScaler()\n",
    "df_scaled_numeric = pd.DataFrame(\n",
    "    scaler.fit_transform(df_clean[numeric_cols]),\n",
    "    index=df_clean.index,\n",
    "    columns=numeric_cols\n",
    ")\n",
    "\n",
    "# If you want to keep non-numeric columns, concatenate them back\n",
    "non_numeric_cols = df_clean.drop(columns=numeric_cols)\n",
    "df_scaled = pd.concat([df_scaled_numeric, non_numeric_cols], axis=1)\n",
    "\n",
    "print(\"Data scaled. Mean:\", np.round(df_scaled_numeric.mean(), 2))\n",
    "print(\"Std:\", np.round(df_scaled_numeric.std(), 2))\n",
    "\n",
    "# 6. Save Cleaned Data\n",
    "os.makedirs('../data/processed', exist_ok=True)\n",
    "df_scaled.to_csv('../data/processed/cleaned_economic_indicators.csv')\n",
    "print(\"Cleaned and scaled data saved to ../data/processed/cleaned_economic_indicators.csv\")"
   ]
  }
 ],
 "metadata": {
  "kernelspec": {
   "display_name": "Python 3",
   "language": "python",
   "name": "python3"
  },
  "language_info": {
   "codemirror_mode": {
    "name": "ipython",
    "version": 3
   },
   "file_extension": ".py",
   "mimetype": "text/x-python",
   "name": "python",
   "nbconvert_exporter": "python",
   "pygments_lexer": "ipython3",
   "version": "3.11.9"
  }
 },
 "nbformat": 4,
 "nbformat_minor": 5
}
