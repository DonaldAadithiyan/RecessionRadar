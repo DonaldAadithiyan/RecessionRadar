{
 "cells": [
  {
   "cell_type": "code",
   "execution_count": 3,
   "metadata": {},
   "outputs": [],
   "source": [
    "import pandas as pd\n",
    "import numpy as np"
   ]
  },
  {
   "cell_type": "code",
   "execution_count": 4,
   "metadata": {},
   "outputs": [
    {
     "name": "stdout",
     "output_type": "stream",
     "text": [
      "Columns kept for modeling:\n",
      "['date', 'unemployment_rate', 'CPI', 'INDPRO', 'gdp_per_capita', '1_year_rate', '3_months_rate', '6_months_rate', '10_year_rate', 'share_price', 'unemployment_rate', 'PPI', 'OECD_CLI_index', 'CSI_index', 'Quarter_Number', 'Month_Number', 'gdp_per_capita', 'anomaly_INDPRO', 'anomaly_CPI', 'anomaly_unemployment_rate', 'anomaly_PPI', 'anomaly_share_price', 'anomaly_1_year_rate', 'anomaly_3_months_rate', 'anomaly_6_months_rate', 'anomaly_10_year_rate', '1_year_rate_acf1_diff1', '1_year_rate_sumsq_acf_diff1', '1_year_rate_acf1_diff2', '1_year_rate_sumsq_acf_diff2', '3_months_rate_acf1_diff1', '3_months_rate_sumsq_acf_diff1', '3_months_rate_acf1_diff2', '3_months_rate_sumsq_acf_diff2', '6_months_rate_acf1_diff1', '6_months_rate_sumsq_acf_diff1', '6_months_rate_acf1_diff2', '6_months_rate_sumsq_acf_diff2', 'CPI_acf1_diff1', 'CPI_sumsq_acf_diff1', 'CPI_acf1_diff2', 'CPI_sumsq_acf_diff2', 'INDPRO_acf1_diff1', 'INDPRO_sumsq_acf_diff1', 'INDPRO_acf1_diff2', 'INDPRO_sumsq_acf_diff2', '10_year_rate_acf1_diff1', '10_year_rate_sumsq_acf_diff1', '10_year_rate_acf1_diff2', '10_year_rate_sumsq_acf_diff2', 'share_price_acf1_diff1', 'share_price_sumsq_acf_diff1', 'share_price_acf1_diff2', 'share_price_sumsq_acf_diff2', 'unemployment_rate_acf1_diff1', 'unemployment_rate_sumsq_acf_diff1', 'unemployment_rate_acf1_diff2', 'unemployment_rate_sumsq_acf_diff2', 'PPI_acf1_diff1', 'PPI_sumsq_acf_diff1', 'PPI_acf1_diff2', 'PPI_sumsq_acf_diff2', 'OECD_CLI_index_acf1_diff1', 'OECD_CLI_index_sumsq_acf_diff1', 'OECD_CLI_index_acf1_diff2', 'OECD_CLI_index_sumsq_acf_diff2', 'CSI_index_acf1_diff1', 'CSI_index_sumsq_acf_diff1', 'CSI_index_acf1_diff2', 'CSI_index_sumsq_acf_diff2', 'gdp_per_capita_acf1_diff1', 'gdp_per_capita_sumsq_acf_diff1', 'gdp_per_capita_acf1_diff2', 'gdp_per_capita_sumsq_acf_diff2', 'seasonally_adjusted_INDPRO', 'seasonally_adjusted_CPI', 'seasonally_adjusted_unemployment_rate', 'seasonally_adjusted_PPI', '1_year_rate_acf1_original', '1_year_rate_sumsq_acf_original', '1_year_rate_acf1_diff1', '1_year_rate_sumsq_acf_diff1', '1_year_rate_acf1_diff2', '1_year_rate_sumsq_acf_diff2', '1_year_rate_acf_seasonal', '3_months_rate_acf1_original', '3_months_rate_sumsq_acf_original', '3_months_rate_acf1_diff1', '3_months_rate_sumsq_acf_diff1', '3_months_rate_acf1_diff2', '3_months_rate_sumsq_acf_diff2', '3_months_rate_acf_seasonal', '6_months_rate_acf1_original', '6_months_rate_sumsq_acf_original', '6_months_rate_acf1_diff1', '6_months_rate_sumsq_acf_diff1', '6_months_rate_acf1_diff2', '6_months_rate_sumsq_acf_diff2', '6_months_rate_acf_seasonal', 'CPI_acf1_original', 'CPI_sumsq_acf_original', 'CPI_acf1_diff1', 'CPI_sumsq_acf_diff1', 'CPI_acf1_diff2', 'CPI_sumsq_acf_diff2', 'CPI_acf_seasonal', 'INDPRO_acf1_original', 'INDPRO_sumsq_acf_original', 'INDPRO_acf1_diff1', 'INDPRO_sumsq_acf_diff1', 'INDPRO_acf1_diff2', 'INDPRO_sumsq_acf_diff2', 'INDPRO_acf_seasonal', '10_year_rate_acf1_original', '10_year_rate_sumsq_acf_original', '10_year_rate_acf1_diff1', '10_year_rate_sumsq_acf_diff1', '10_year_rate_acf1_diff2', '10_year_rate_sumsq_acf_diff2', '10_year_rate_acf_seasonal']\n"
     ]
    }
   ],
   "source": [
    "# 1️⃣ Load CSV\n",
    "df = pd.read_csv(\"../data/feature-engineered/recession_probability.csv\")\n",
    "df['date'] = pd.to_datetime(df['date'])\n",
    "\n",
    "# 2️⃣ Priority 1: Keep core economic indicators\n",
    "priority1_cols = [\n",
    "    'unemployment_rate', 'CPI', 'INDPRO', 'gdp_per_capita',\n",
    "    '1_year_rate', '3_months_rate', '6_months_rate', '10_year_rate', 'share_price', 'unemployment_rate', 'PPI' , 'OECD_CLI_index', 'CSI_index', 'Quarter_Number' , 'Month_Number', 'gdp_per_capita', \n",
    "    # Anomaly indicators\n",
    "    'anomaly_INDPRO', 'anomaly_CPI', 'anomaly_unemployment_rate', 'anomaly_PPI',\n",
    "    'anomaly_share_price', 'anomaly_1_year_rate', 'anomaly_3_months_rate',\n",
    "    'anomaly_6_months_rate', 'anomaly_10_year_rate'\n",
    "]\n",
    "\n",
    "# Add first differences and seasonal adjustments if present\n",
    "first_diff_cols = [c for c in df.columns if \"_diff1\" in c or \"_diff2\" in c]\n",
    "seasonal_cols = [c for c in df.columns if \"seasonally_adjusted\" in c]\n",
    "\n",
    "priority1_keep = priority1_cols + first_diff_cols + seasonal_cols\n",
    "\n",
    "# 3️⃣ Priority 2: Selective time-series features\n",
    "# Only keep acf1 and sumsq_acf for key variables\n",
    "key_vars = ['1_year_rate','3_months_rate','6_months_rate','CPI','INDPRO','10_year_rate']\n",
    "acf_cols = []\n",
    "for var in key_vars:\n",
    "    acf_cols += [c for c in df.columns if c.startswith(var+\"_acf1\") or c.startswith(var+\"_sumsq_acf\")]\n",
    "    # Only include seasonal ACF if strong seasonality\n",
    "    seasonal_acf = [c for c in df.columns if c.startswith(var+\"_acf_seasonal\")]\n",
    "    if seasonal_acf:\n",
    "        acf_cols += seasonal_acf\n",
    "\n",
    "priority2_keep = acf_cols\n",
    "\n",
    "# 4️⃣ Combine Priority 1 & 2, drop everything else\n",
    "keep_cols = ['date'] + priority1_keep + priority2_keep\n",
    "df_clean = df[keep_cols].copy()\n",
    "\n",
    "# # 5️⃣ Optional: Fill missing values\n",
    "# df_clean = df_clean.replace([np.inf, -np.inf], np.nan)\n",
    "# df_clean = df_clean.ffill().bfill()\n",
    "\n",
    "# 6️⃣ Inspect final columns\n",
    "print(\"Columns kept for modeling:\")\n",
    "print(df_clean.columns.tolist())\n",
    "\n",
    "# 7️⃣ Save cleaned DataFrame\n",
    "df_clean.to_csv(\"../data/feature-engineered/dim_reduced_data.csv\", index=False)\n"
   ]
  },
  {
   "cell_type": "code",
   "execution_count": 6,
   "metadata": {},
   "outputs": [],
   "source": [
    "df_2 = pd.read_csv(\"../data/feature-engineered/recession_probability.csv\")"
   ]
  },
  {
   "cell_type": "code",
   "execution_count": 7,
   "metadata": {},
   "outputs": [
    {
     "data": {
      "text/plain": [
       "(700, 121)"
      ]
     },
     "execution_count": 7,
     "metadata": {},
     "output_type": "execute_result"
    }
   ],
   "source": [
    "df_2.shape"
   ]
  },
  {
   "cell_type": "code",
   "execution_count": 11,
   "metadata": {},
   "outputs": [
    {
     "name": "stdout",
     "output_type": "stream",
     "text": [
      "Final features (35 + 4 recession):\n",
      "['seasonally_adjusted_CPI', 'CPI_trend', 'seasonally_adjusted_unemployment_rate', 'INDPRO_trend', 'seasonally_adjusted_INDPRO', 'PPI_trend', 'recession_probability', 'unemployment_rate_trend', 'seasonally_adjusted_PPI', 'Year', '3_month_recession_probability', '6_month_recession_probability', '1_month_recession_probability', 'anomaly_INDPRO', 'Month_Number', 'anomaly_3_months_rate', 'Quarter_Number', 'anomaly_6_months_rate', 'anomaly_1_year_rate', 'anomaly_10_year_rate', 'anomaly_unemployment_rate', 'anomaly_PPI', 'anomaly_CPI', 'anomaly_share_price', '1_year_rate_acf1_original', '1_year_rate_sumsq_acf_original', '1_year_rate_acf1_diff1', '1_year_rate_sumsq_acf_diff1', '1_year_rate_acf1_diff2', '1_year_rate_sumsq_acf_diff2', '1_year_rate_acf_seasonal', '3_months_rate_acf1_original', '3_months_rate_sumsq_acf_original', '3_months_rate_acf1_diff1', '3_months_rate_sumsq_acf_diff1', 'recession_probability', '1_month_recession_probability', '3_month_recession_probability', '6_month_recession_probability']\n"
     ]
    }
   ],
   "source": [
    "import pandas as pd\n",
    "import numpy as np\n",
    "from sklearn.ensemble import RandomForestRegressor\n",
    "from sklearn.feature_selection import RFECV\n",
    "from sklearn.model_selection import KFold\n",
    "\n",
    "# 1️⃣ Load dataframe\n",
    "df = df_2\n",
    "df['date'] = pd.to_datetime(df['date'])\n",
    "\n",
    "# 2️⃣ Config\n",
    "TARGET_COLS = [\n",
    "    '1_year_rate','3_months_rate','6_months_rate','CPI','INDPRO',\n",
    "    '10_year_rate','share_price','unemployment_rate','PPI',\n",
    "    'OECD_CLI_index','CSI_index','gdp_per_capita'\n",
    "]\n",
    "\n",
    "RECESSION_COLS = [\n",
    "    'recession_probability','1_month_recession_probability',\n",
    "    '3_month_recession_probability','6_month_recession_probability'\n",
    "]\n",
    "\n",
    "# Drop date + targets for features\n",
    "X = df.drop(columns=['date'] + TARGET_COLS)\n",
    "feature_importance_dict = {}\n",
    "\n",
    "# 3️⃣ RFECV parameters\n",
    "cv = KFold(n_splits=5, shuffle=True, random_state=42)\n",
    "model = RandomForestRegressor(n_estimators=200, random_state=42, n_jobs=-1)\n",
    "\n",
    "# 4️⃣ Run RFECV for each target to get feature importance\n",
    "for target in TARGET_COLS:\n",
    "    y = df[target]\n",
    "    # Drop rows where target is NaN\n",
    "    mask = ~y.isna()\n",
    "    X_clean = X.loc[mask]\n",
    "    y_clean = y.loc[mask]\n",
    "\n",
    "    rfecv = RFECV(estimator=model, step=1, cv=cv, scoring='r2', min_features_to_select=5)\n",
    "    rfecv.fit(X_clean, y_clean)\n",
    "\n",
    "    # Accumulate feature importance\n",
    "    for f, imp in zip(X.columns, model.fit(X_clean, y_clean).feature_importances_):\n",
    "        feature_importance_dict[f] = feature_importance_dict.get(f, 0) + imp\n",
    "\n",
    "# 5️⃣ Select top 35 features based on accumulated importance\n",
    "sorted_features = sorted(feature_importance_dict.items(), key=lambda x: x[1], reverse=True)\n",
    "top_35_features = [f for f, _ in sorted_features[:35]]\n",
    "\n",
    "# 6️⃣ Combine with recession columns\n",
    "final_features = top_35_features + RECESSION_COLS\n",
    "\n",
    "# 7️⃣ Create reduced dataframe\n",
    "df_reduced = df[['date'] + TARGET_COLS + final_features].copy()\n",
    "\n",
    "# 8️⃣ Optional: save reduced dataframe\n",
    "df_reduced.to_csv(\"df_2_reduced.csv\", index=False)\n",
    "\n",
    "print(f\"Final features ({len(top_35_features)} + {len(RECESSION_COLS)} recession):\")\n",
    "print(final_features)\n"
   ]
  },
  {
   "cell_type": "code",
   "execution_count": 12,
   "metadata": {},
   "outputs": [
    {
     "data": {
      "text/plain": [
       "Index(['date', '1_year_rate', '3_months_rate', '6_months_rate', 'CPI',\n",
       "       'INDPRO', '10_year_rate', 'share_price', 'unemployment_rate', 'PPI',\n",
       "       'OECD_CLI_index', 'CSI_index', 'gdp_per_capita',\n",
       "       'seasonally_adjusted_CPI', 'CPI_trend',\n",
       "       'seasonally_adjusted_unemployment_rate', 'INDPRO_trend',\n",
       "       'seasonally_adjusted_INDPRO', 'PPI_trend', 'recession_probability',\n",
       "       'unemployment_rate_trend', 'seasonally_adjusted_PPI', 'Year',\n",
       "       '3_month_recession_probability', '6_month_recession_probability',\n",
       "       '1_month_recession_probability', 'anomaly_INDPRO', 'Month_Number',\n",
       "       'anomaly_3_months_rate', 'Quarter_Number', 'anomaly_6_months_rate',\n",
       "       'anomaly_1_year_rate', 'anomaly_10_year_rate',\n",
       "       'anomaly_unemployment_rate', 'anomaly_PPI', 'anomaly_CPI',\n",
       "       'anomaly_share_price', '1_year_rate_acf1_original',\n",
       "       '1_year_rate_sumsq_acf_original', '1_year_rate_acf1_diff1',\n",
       "       '1_year_rate_sumsq_acf_diff1', '1_year_rate_acf1_diff2',\n",
       "       '1_year_rate_sumsq_acf_diff2', '1_year_rate_acf_seasonal',\n",
       "       '3_months_rate_acf1_original', '3_months_rate_sumsq_acf_original',\n",
       "       '3_months_rate_acf1_diff1', '3_months_rate_sumsq_acf_diff1',\n",
       "       'recession_probability', '1_month_recession_probability',\n",
       "       '3_month_recession_probability', '6_month_recession_probability'],\n",
       "      dtype='object')"
      ]
     },
     "execution_count": 12,
     "metadata": {},
     "output_type": "execute_result"
    }
   ],
   "source": [
    "df_reduced.columns"
   ]
  },
  {
   "cell_type": "code",
   "execution_count": null,
   "metadata": {},
   "outputs": [],
   "source": []
  },
  {
   "cell_type": "code",
   "execution_count": null,
   "metadata": {},
   "outputs": [],
   "source": []
  },
  {
   "cell_type": "code",
   "execution_count": null,
   "metadata": {},
   "outputs": [],
   "source": []
  },
  {
   "cell_type": "code",
   "execution_count": 5,
   "metadata": {},
   "outputs": [
    {
     "data": {
      "text/plain": [
       "(700, 120)"
      ]
     },
     "execution_count": 5,
     "metadata": {},
     "output_type": "execute_result"
    }
   ],
   "source": [
    "df_clean.shape"
   ]
  }
 ],
 "metadata": {
  "kernelspec": {
   "display_name": ".venv",
   "language": "python",
   "name": "python3"
  },
  "language_info": {
   "codemirror_mode": {
    "name": "ipython",
    "version": 3
   },
   "file_extension": ".py",
   "mimetype": "text/x-python",
   "name": "python",
   "nbconvert_exporter": "python",
   "pygments_lexer": "ipython3",
   "version": "3.13.2"
  }
 },
 "nbformat": 4,
 "nbformat_minor": 2
}
